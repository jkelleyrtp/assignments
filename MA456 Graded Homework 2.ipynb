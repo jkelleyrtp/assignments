{
 "cells": [
  {
   "cell_type": "markdown",
   "metadata": {},
   "source": [
    "# MA456 Numerical Analysis\n",
    "## Graded Homework 2\n",
    "\n",
    "Jonathan Kelley"
   ]
  },
  {
   "cell_type": "markdown",
   "metadata": {},
   "source": [
    "Use a computing method to find the largest root of a function using Newton and Secant methods.\n",
    "- Easy to change inputs\n",
    "- Include tolerance\n",
    "- Include maximum iterations\n",
    "- Include error term\n",
    " "
   ]
  },
  {
   "cell_type": "markdown",
   "metadata": {},
   "source": [
    "The function in question:\n",
    "\n",
    "$f(x) = x^6 - x - 1$\n",
    "    "
   ]
  },
  {
   "cell_type": "markdown",
   "metadata": {},
   "source": [
    "The function and its derivative as code:"
   ]
  },
  {
   "cell_type": "code",
   "execution_count": 1,
   "metadata": {},
   "outputs": [],
   "source": [
    "def f(x):\n",
    "    return x**6.0 - x - 1.0\n",
    "\n",
    "def df(x):\n",
    "    return 6.0*x**5.0 - 1.0"
   ]
  },
  {
   "cell_type": "markdown",
   "metadata": {},
   "source": [
    "Basic variables:"
   ]
  },
  {
   "cell_type": "code",
   "execution_count": 2,
   "metadata": {},
   "outputs": [],
   "source": [
    "guess = 1.0\n",
    "guess_2 = 2.0 # used only for Secant Method\n",
    "tolerance = .00001\n",
    "maximum_iterations = 10000"
   ]
  },
  {
   "cell_type": "markdown",
   "metadata": {},
   "source": [
    "### Newton's Method Code:"
   ]
  },
  {
   "cell_type": "code",
   "execution_count": 3,
   "metadata": {},
   "outputs": [],
   "source": [
    "def newtons_method(f, df, x0 = 0, tol = 1e-6, max_iter = 1000):\n",
    "    iter = 0\n",
    "    diff = abs(0-f(x0))\n",
    "    while diff>tol and iter<max_iter:\n",
    "        iter+=1\n",
    "        x0 = x0-f(x0)/df(x0)\n",
    "        diff = abs(0-f(x0))\n",
    "        \n",
    "    print('Root is at: ', x0)\n",
    "    print('f(x) at root is: ', f(x0))\n",
    "    print('')\n",
    "    print('Took ', iter, \" iterations to complete\")\n",
    "    print('Difference to solution was ', x0 - 1.1347 )\n",
    "    "
   ]
  },
  {
   "cell_type": "code",
   "execution_count": 4,
   "metadata": {},
   "outputs": [
    {
     "name": "stdout",
     "output_type": "stream",
     "text": [
      "Root is at:  1.1347242213865578\n",
      "f(x) at root is:  8.537194391422531e-07\n",
      "\n",
      "Took  4  iterations to complete\n",
      "Difference to solution was  2.4221386557776725e-05\n"
     ]
    }
   ],
   "source": [
    "newtons_method(f,df, guess, tolerance, maximum_iterations)"
   ]
  },
  {
   "cell_type": "markdown",
   "metadata": {},
   "source": [
    "### Secant Method Code:"
   ]
  },
  {
   "cell_type": "code",
   "execution_count": 12,
   "metadata": {},
   "outputs": [],
   "source": [
    "def secant_method(f, x0, x1, tol = 1e-6, max_iter = 1000):\n",
    "    iter = 0\n",
    "    diff = abs(0-f(x0))\n",
    "    while diff > tol and iter < max_iter:\n",
    "        iter+=1\n",
    "        x2 = x1 - f(x1)*((x1-x0)/(f(x1)-f(x0)))\n",
    "        diff = abs(x2 - x1)\n",
    "        x0 = x1\n",
    "        x1 = x2\n",
    "        \n",
    "        \n",
    "    print('Root is at: ', x2)\n",
    "    print('f(x) at root is: ', f(x2))\n",
    "    print('')\n",
    "    print('Took ', iter, \" iterations to complete\")\n",
    "    print('Difference to solution was ', x0 - 1.1347 )\n",
    "\n",
    "    "
   ]
  },
  {
   "cell_type": "code",
   "execution_count": 13,
   "metadata": {},
   "outputs": [
    {
     "name": "stdout",
     "output_type": "stream",
     "text": [
      "Root is at:  1.1347241383964999\n",
      "f(x) at root is:  -5.164002558899483e-11\n",
      "\n",
      "Took  8  iterations to complete\n"
     ]
    }
   ],
   "source": [
    "secant_method(f, guess, guess_2, tolerance, maximum_iterations)"
   ]
  },
  {
   "cell_type": "code",
   "execution_count": null,
   "metadata": {},
   "outputs": [],
   "source": []
  },
  {
   "cell_type": "code",
   "execution_count": null,
   "metadata": {},
   "outputs": [],
   "source": []
  },
  {
   "cell_type": "code",
   "execution_count": null,
   "metadata": {},
   "outputs": [],
   "source": []
  }
 ],
 "metadata": {
  "kernelspec": {
   "display_name": "Python 3",
   "language": "python",
   "name": "python3"
  },
  "language_info": {
   "codemirror_mode": {
    "name": "ipython",
    "version": 3
   },
   "file_extension": ".py",
   "mimetype": "text/x-python",
   "name": "python",
   "nbconvert_exporter": "python",
   "pygments_lexer": "ipython3",
   "version": "3.6.4"
  }
 },
 "nbformat": 4,
 "nbformat_minor": 2
}
