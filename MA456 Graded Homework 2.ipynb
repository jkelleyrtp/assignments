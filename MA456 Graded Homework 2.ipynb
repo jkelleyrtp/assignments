{
 "cells": [
  {
   "cell_type": "markdown",
   "metadata": {},
   "source": [
    "# MA456 Numerical Analysis\n",
    "## Graded Homework 2\n",
    "\n",
    "Jonathan Kelley"
   ]
  },
  {
   "cell_type": "markdown",
   "metadata": {},
   "source": [
    "## Question 1:\n",
    "\n",
    "Use a computing method to find the largest root of a function using Newton and Secant methods.\n",
    "- Easy to change inputs\n",
    "- Include tolerance\n",
    "- Include maximum iterations\n",
    "- Include error term\n",
    " "
   ]
  },
  {
   "cell_type": "markdown",
   "metadata": {},
   "source": [
    "The function in question:\n",
    "\n",
    "$f(x) = x^6 - x - 1$\n",
    "    "
   ]
  },
  {
   "cell_type": "markdown",
   "metadata": {},
   "source": [
    "The function and its derivative as code:"
   ]
  },
  {
   "cell_type": "code",
   "execution_count": 1,
   "metadata": {},
   "outputs": [],
   "source": [
    "def f(x):\n",
    "    return x**6.0 - x - 1.0\n",
    "\n",
    "def df(x):\n",
    "    return 6.0*x**5.0 - 1.0"
   ]
  },
  {
   "cell_type": "markdown",
   "metadata": {},
   "source": [
    "Basic variables:"
   ]
  },
  {
   "cell_type": "code",
   "execution_count": 2,
   "metadata": {},
   "outputs": [],
   "source": [
    "guess = 1.0\n",
    "guess_2 = 2.0 # used only for Secant Method\n",
    "tolerance = .00001\n",
    "maximum_iterations = 10000"
   ]
  },
  {
   "cell_type": "markdown",
   "metadata": {},
   "source": [
    "### Newton's Method Code:"
   ]
  },
  {
   "cell_type": "code",
   "execution_count": 3,
   "metadata": {},
   "outputs": [],
   "source": [
    "def newtons_method(f, df, x0 = 0, tol = 1e-6, max_iter = 1000, target = 0, verbose=False):\n",
    "    iter = 0\n",
    "    diff = abs(0-(f(x0)-target))\n",
    "    while diff>tol and iter<max_iter:\n",
    "        iter+=1\n",
    "        if verbose:\n",
    "            print(\"x0, \", x0)\n",
    "            print(\"f(x0)\", f(x0))\n",
    "            print(\"df(x0)\", df(x0))\n",
    "            print(\"diff: \", diff)\n",
    "\n",
    "        x0 = x0-f(x0)/df(x0)\n",
    "        diff = abs(0-(f(x0)-target))\n",
    "        \n",
    "    print('Root is at: ', x0)\n",
    "    print('f(x) at root is: ', f(x0))\n",
    "    print('')\n",
    "    print('Took ', iter, \" iterations to complete\")\n",
    "    #print('Difference to solution was ', x0 - 1.1347 )\n",
    "    "
   ]
  },
  {
   "cell_type": "code",
   "execution_count": 4,
   "metadata": {},
   "outputs": [
    {
     "name": "stdout",
     "output_type": "stream",
     "text": [
      "Root is at:  1.1347242213865578\n",
      "f(x) at root is:  8.537194391422531e-07\n",
      "\n",
      "Took  4  iterations to complete\n"
     ]
    }
   ],
   "source": [
    "newtons_method(f,df, guess, tolerance, maximum_iterations)"
   ]
  },
  {
   "cell_type": "markdown",
   "metadata": {},
   "source": [
    "### Secant Method Code:"
   ]
  },
  {
   "cell_type": "code",
   "execution_count": 5,
   "metadata": {},
   "outputs": [],
   "source": [
    "def secant_method(f, x0, x1, tol = 1e-6, max_iter = 1000):\n",
    "    iter = 0\n",
    "    diff = abs(0-f(x0))\n",
    "    while diff > tol and iter < max_iter:\n",
    "        iter+=1\n",
    "        x2 = x1 - f(x1)*((x1-x0)/(f(x1)-f(x0)))\n",
    "        diff = abs(x2 - x1)\n",
    "        x0 = x1\n",
    "        x1 = x2\n",
    "        \n",
    "        \n",
    "    print('Root is at: ', x2)\n",
    "    print('f(x) at root is: ', f(x2))\n",
    "    print('')\n",
    "    print('Took ', iter, \" iterations to complete\")\n",
    "    #print('Difference to solution was ', x0 - 1.1347 )\n",
    "\n",
    "    "
   ]
  },
  {
   "cell_type": "code",
   "execution_count": 6,
   "metadata": {},
   "outputs": [
    {
     "name": "stdout",
     "output_type": "stream",
     "text": [
      "Root is at:  1.1347241383964999\n",
      "f(x) at root is:  -5.164002558899483e-11\n",
      "\n",
      "Took  8  iterations to complete\n"
     ]
    }
   ],
   "source": [
    "secant_method(f, guess, guess_2, tolerance, maximum_iterations)"
   ]
  },
  {
   "cell_type": "markdown",
   "metadata": {},
   "source": [
    "### #1 Conclusions\n",
    "\n",
    "Both methods resulted in roots near 1.134724 in less nine iterations. Newton's method converged faster in 4 iterations vs 8 for secant method."
   ]
  },
  {
   "cell_type": "markdown",
   "metadata": {},
   "source": [
    "## Question 2:\n",
    "\n",
    "A trough of length L has a cross section in the shape of a semicircle with radius $r$. When filled with water to within a distance $h$ of the top, the volume $V$ of the water is\n",
    "\n",
    "$ V = L \\cdot  (0.5\\pi r^2 - r^2arcsin(h/r)-h(r^2-h^2)^{1/2} ))) $\n",
    "\n",
    "Suppose $L = 15$ft, $r=2.0$ft, and $V = 75.0 ft^3$. Find the depth of the water in the trough to within .0001 ft. Use Newton;s method and one other method of your choosing.\n",
    "\n",
    "First, set the function equal to zero.\n",
    "\n",
    "$ 0 = L \\cdot  (0.5\\pi r^2 - r^2arcsin(h/r)-h(r^2-h^2)^{1/2} ))) - V $\n",
    "\n",
    "Next, sub in the constants.\n",
    "\n",
    "$ 0 = 15 \\textrm{ ft} \\cdot  (0.5\\pi (2.0\\textrm{ ft})^2 - r^2arcsin(h/2.0\\textrm{ ft})-h(2.0\\textrm{ ft}^2-h^2)^{1/2} ))) - 75.0\\textrm{ ft^3} $\n",
    "\n",
    "Evaluate:\n",
    "\n",
    "$ 0 = 19.25 \\textrm{ ft}^3 - 15 ft \\cdot (r^2arcsin(h/2.0\\textrm{ft}) + h(2.0\\textrm{ft}^2-h^2)^{1/2} ))) $\n",
    "\n",
    "For the derivative, we just used Wolfram Alpha. Python also has a CAS library but WA is simple enough."
   ]
  },
  {
   "cell_type": "code",
   "execution_count": 7,
   "metadata": {},
   "outputs": [],
   "source": [
    "from math import pi, asin, sqrt\n",
    "L = 15.0 #ft\n",
    "r = 2.0  #ft\n",
    "V = 75.0 #ft\n",
    "\n",
    "def f(x):\n",
    "    h = x\n",
    "    return (L*(0.5*pi*r**2.0 - (r**2.0)*asin(h/r)-h*(r**2.0 - h**2.0)**0.5))-V\n",
    "    \n",
    "def df(x):\n",
    "    h = x\n",
    "#    return (-L * r**2.0 - L * abs(r)*(r**2.0 - h**2.0)+L*(h**2.0)*r)/(sqrt(r**2.0 - h**2.0)*r)\n",
    "    return (L*(-r*abs(r)+2*h**2.0-r**2.0))/sqrt(r**2.0-h**2.0)"
   ]
  },
  {
   "cell_type": "markdown",
   "metadata": {},
   "source": [
    "As a \"sanity check,\" let's graph the data from 0 to r."
   ]
  },
  {
   "cell_type": "code",
   "execution_count": 8,
   "metadata": {},
   "outputs": [
    {
     "data": {
      "text/plain": [
       "Text(0.5,1,'Derivative of volume function from 0 to trough height')"
      ]
     },
     "execution_count": 8,
     "metadata": {},
     "output_type": "execute_result"
    },
    {
     "data": {
      "text/plain": [
       "<matplotlib.figure.Figure at 0x10fe93be0>"
      ]
     },
     "metadata": {},
     "output_type": "display_data"
    },
    {
     "data": {
      "image/png": "[encoded data removed]",
      "text/plain": [
       "<matplotlib.figure.Figure at 0x111493780>"
      ]
     },
     "metadata": {},
     "output_type": "display_data"
    },
    {
     "data": {
      "image/png": "[encoded data removed]",
      "text/plain": [
       "<matplotlib.figure.Figure at 0x10fe930f0>"
      ]
     },
     "metadata": {},
     "output_type": "display_data"
    }
   ],
   "source": [
    "import numpy as np\n",
    "import matplotlib.pyplot as plt\n",
    "%matplotlib inline\n",
    "\n",
    "f_v = np.vectorize(f)\n",
    "ys = np.linspace(0, r-.00000001, 100)\n",
    "plt.figure()\n",
    "y_vals = f_v(ys)\n",
    "plt.figure()\n",
    "plt.subplot(1,2,1)\n",
    "plt.scatter(ys, y_vals)\n",
    "plt.title(\"Volume function from 0 to trough height\")\n",
    "\n",
    "f_v = np.vectorize(df)\n",
    "ys = np.linspace(0, r-.00000001, 100)\n",
    "plt.figure()\n",
    "y_vals = f_v(ys)\n",
    "plt.subplot(1,2,2)\n",
    "plt.scatter(ys, y_vals)\n",
    "plt.title(\"Derivative of volume function from 0 to trough height\")\n",
    "\n",
    "\n"
   ]
  },
  {
   "cell_type": "markdown",
   "metadata": {},
   "source": [
    "So, as the height from the top of the water increases, the volume decreases. Essentially, as the tub drains, it loses volume. \n",
    "\n",
    "We can use the \"target\" argument to our Newton's method function to approximate the root of the function around any value by shifting the function. In this instance, we can use a target value of 75 as reflected in the \"-V\" in the f(x) function. The other input variables can remain the same."
   ]
  },
  {
   "cell_type": "code",
   "execution_count": 9,
   "metadata": {
    "scrolled": true
   },
   "outputs": [
    {
     "name": "stdout",
     "output_type": "stream",
     "text": [
      "Root is at:  0.322195430477312\n",
      "f(x) at root is:  3.251169289342215e-08\n",
      "\n",
      "Took  3  iterations to complete\n"
     ]
    }
   ],
   "source": [
    "newtons_method(f,df, guess, tolerance, maximum_iterations)"
   ]
  },
  {
   "cell_type": "code",
   "execution_count": 10,
   "metadata": {},
   "outputs": [
    {
     "name": "stdout",
     "output_type": "stream",
     "text": [
      "Root is at:  0.32219543120314253\n",
      "f(x) at root is:  -1.0469307198945899e-08\n",
      "\n",
      "Took  5  iterations to complete\n"
     ]
    }
   ],
   "source": [
    "secant_method(f, guess, guess_2, tolerance, maximum_iterations)"
   ]
  },
  {
   "cell_type": "markdown",
   "metadata": {},
   "source": [
    "Both Newton's Method and the Secant Method return values of about 0.32219543 in under 6 iterations."
   ]
  },
  {
   "cell_type": "markdown",
   "metadata": {},
   "source": [
    "## Question 3:\n",
    "\n",
    "Consider the function:\n",
    "$f_1(x) = (x-3.2)^3 (x-2.1) = x^4 - 11.7x^3 + 50.88x^2 - 97.280x + 68.8128$\n",
    "\n",
    "- Tolerance of $10^-7$\n",
    "- Maximum of 25 iterations\n",
    "- Initial points [2.5,3.5]\n",
    "- Initial point of 3.0 for Newton's Method\n"
   ]
  },
  {
   "cell_type": "code",
   "execution_count": 11,
   "metadata": {},
   "outputs": [],
   "source": [
    "guess = 3.0\n",
    "tolerance = 1e-7\n",
    "maximum_iterations = 25"
   ]
  },
  {
   "cell_type": "code",
   "execution_count": 12,
   "metadata": {},
   "outputs": [],
   "source": [
    "def f(x):\n",
    "    return x**4.0 - 11.7*x**3.0 + 50.88*x**2.0 - 97.280*x + 68.8128\n",
    "\n",
    "def df(x):\n",
    "    return 4.0*x**3.0 - 35.1*x**2.0 + 101.76*x - 97.280\n",
    "\n"
   ]
  },
  {
   "cell_type": "markdown",
   "metadata": {},
   "source": [
    "### Bisection Method Code"
   ]
  },
  {
   "cell_type": "code",
   "execution_count": 13,
   "metadata": {},
   "outputs": [],
   "source": [
    "def bisection_method(f, a, b, tolerance, maximum_iterations):\n",
    "    iter = 0\n",
    "    while (b-a)/2.0 > tolerance:\n",
    "        iter +=1\n",
    "        midpoint = (a+b)/2.0\n",
    "        if f(midpoint) == 0:\n",
    "            return(midpoint, iter)\n",
    "        elif f(a)*f(midpoint)<0:\n",
    "            b = midpoint\n",
    "        else:\n",
    "            a = midpoint\n",
    "    return(midpoint, iter)"
   ]
  },
  {
   "cell_type": "code",
   "execution_count": 14,
   "metadata": {},
   "outputs": [
    {
     "data": {
      "text/plain": [
       "(3.1999839544296265, 23)"
      ]
     },
     "execution_count": 14,
     "metadata": {},
     "output_type": "execute_result"
    }
   ],
   "source": [
    "bisection_method(f, 2.5, 3.5, tolerance, maximum_iterations)"
   ]
  },
  {
   "cell_type": "code",
   "execution_count": 15,
   "metadata": {},
   "outputs": [
    {
     "name": "stdout",
     "output_type": "stream",
     "text": [
      "Root is at:  3.1968696696298617\n",
      "f(x) at root is:  -3.3645378039182106e-08\n",
      "\n",
      "Took  10  iterations to complete\n"
     ]
    }
   ],
   "source": [
    "newtons_method(f,df, guess, tolerance, maximum_iterations)"
   ]
  },
  {
   "cell_type": "markdown",
   "metadata": {},
   "source": [
    "23 Iterations with Bisection vs 10 Iterations with Newton's Method"
   ]
  },
  {
   "cell_type": "markdown",
   "metadata": {},
   "source": [
    "### Question 3b:\n",
    "\n",
    "Try with function $x^2 -5.3x + 6.72$"
   ]
  },
  {
   "cell_type": "code",
   "execution_count": 16,
   "metadata": {},
   "outputs": [],
   "source": [
    "def f(x):\n",
    "    return x**2.0 - 5.3*x + 6.72\n",
    "\n",
    "def df(x):\n",
    "    return 2.0*x - 5.3"
   ]
  },
  {
   "cell_type": "code",
   "execution_count": 17,
   "metadata": {},
   "outputs": [
    {
     "data": {
      "text/plain": [
       "(3.1999999284744263, 23)"
      ]
     },
     "execution_count": 17,
     "metadata": {},
     "output_type": "execute_result"
    }
   ],
   "source": [
    "bisection_method(f, 2.5, 3.5, tolerance, maximum_iterations)"
   ]
  },
  {
   "cell_type": "code",
   "execution_count": 18,
   "metadata": {},
   "outputs": [
    {
     "name": "stdout",
     "output_type": "stream",
     "text": [
      "Root is at:  3.2000000000389024\n",
      "f(x) at root is:  4.2793324439571734e-11\n",
      "\n",
      "Took  4  iterations to complete\n"
     ]
    }
   ],
   "source": [
    "newtons_method(f,df, guess, tolerance, maximum_iterations)"
   ]
  },
  {
   "cell_type": "markdown",
   "metadata": {},
   "source": [
    "Bisection method took 23 iterations to complete vs only 4 with Newton's Method.\n",
    "\n",
    "Despite having a simpler function, the bisection method still required 23 iterations to find the root while the Newton's method dropped from 10 iterations to 4 iterations. \n",
    "\n",
    "The bisection method above calls the f(x) function 3 times per call -- just as many as Newton's method.\n",
    "\n",
    "Using the %timeit command, Newton's method takes 815 µs per run while the bisection method takes 19.2 µs per run. Each call of f(x) and df(x) takes about 180 ns to run, so the code is likely just unoptimized.\n",
    "\n",
    "Interestingly, the scipy package implements its own bisection method which also converges after 23 iterations. This function, written in C, takes only 13.2 µs to converge. The optimized Newton's method is hands-down the fastest at 4.4 µs."
   ]
  },
  {
   "cell_type": "code",
   "execution_count": 20,
   "metadata": {},
   "outputs": [
    {
     "name": "stdout",
     "output_type": "stream",
     "text": [
      "12.7 µs ± 214 ns per loop (mean ± std. dev. of 7 runs, 100000 loops each)\n",
      "4.17 µs ± 61 ns per loop (mean ± std. dev. of 7 runs, 100000 loops each)\n",
      "4.45 µs ± 130 ns per loop (mean ± std. dev. of 7 runs, 100000 loops each)\n"
     ]
    }
   ],
   "source": [
    "import scipy.optimize as optimize\n",
    "import numpy as np\n",
    "\n",
    "%timeit optimize.bisect(f, 2.5, 3.5)\n",
    "%timeit optimize.newton(f, 3, df, tol=1e-7) # With derivative\n",
    "%timeit optimize.newton(f, 3, tol=1e-7)     # Secant method\n"
   ]
  },
  {
   "cell_type": "markdown",
   "metadata": {},
   "source": [
    "Newton's method is significantly faster than bisection -- up to 3 times for optimized C versions. This isn't really surprising as Newton's method uses both the function and its derivative to predict roots. In control theory, this is akin to using a PD controller versus just a simple P controller. Both will work, but a PD controller will respond much faster than a P controller."
   ]
  },
  {
   "cell_type": "markdown",
   "metadata": {},
   "source": [
    "## Question 4:\n"
   ]
  },
  {
   "cell_type": "markdown",
   "metadata": {},
   "source": [
    "Newton's method is the most effective method for all different functions studied in this paper. It converges in the fewest iterations and is significantly faster for polynomials than the bisection or secant methods. Computationally, Newton's method with derivative outperformed all other methods, but the secant method was a close second. \n",
    "\n",
    "Overall, I would most likely choose to use the secant method because it is quick, simple, and does not require computation of complicated derivatives. It can easily handle transcendental functions and can be shifted to target any value within a given domain. The need to have a second bound significantly outweighs the need to have a derivative. Given a polynomial, Newton's method might be slightly faster with a fairly simple-to-compute derivative."
   ]
  }
 ],
 "metadata": {
  "kernelspec": {
   "display_name": "Python 3",
   "language": "python",
   "name": "python3"
  },
  "language_info": {
   "codemirror_mode": {
    "name": "ipython",
    "version": 3
   },
   "file_extension": ".py",
   "mimetype": "text/x-python",
   "name": "python",
   "nbconvert_exporter": "python",
   "pygments_lexer": "ipython3",
   "version": "3.6.4"
  }
 },
 "nbformat": 4,
 "nbformat_minor": 2
}
